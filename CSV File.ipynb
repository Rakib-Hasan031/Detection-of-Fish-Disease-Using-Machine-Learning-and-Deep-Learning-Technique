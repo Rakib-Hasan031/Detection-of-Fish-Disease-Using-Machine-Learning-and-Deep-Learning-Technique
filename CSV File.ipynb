{
 "cells": [
  {
   "cell_type": "code",
   "execution_count": 1,
   "id": "a8488970",
   "metadata": {},
   "outputs": [
    {
     "name": "stdout",
     "output_type": "stream",
     "text": [
      "Image dataset information saved to Fish-Disease.csv\n"
     ]
    }
   ],
   "source": [
    "import os\n",
    "import pandas as pd\n",
    "\n",
    "# Define the path to the root folder\n",
    "root_folder = '../Rasel_thesis'  \n",
    "\n",
    "# Initialize empty lists to store folder names, image filenames, and image paths\n",
    "folder_names = []\n",
    "image_filenames = []\n",
    "image_paths = []\n",
    "\n",
    "# Iterate through the subfolders in the root folder\n",
    "for folder_name in os.listdir(root_folder):\n",
    "    folder_path = os.path.join(root_folder, folder_name)\n",
    "    \n",
    "    # Check if the item in the root folder is a directory (subfolder)\n",
    "    if os.path.isdir(folder_path):\n",
    "        # Iterate through the files in the subfolder\n",
    "        for filename in os.listdir(folder_path):\n",
    "            # Check if the file is an image (you can specify additional extensions)\n",
    "            if filename.lower().endswith(('.jpg', '.jpeg', '.png', '.gif', '.bmp')):\n",
    "                folder_names.append(folder_name)\n",
    "                image_filenames.append(filename)\n",
    "                image_paths.append(os.path.join(folder_path, filename))\n",
    "\n",
    "# Create a DataFrame to store the data\n",
    "data = {'Folder Name': folder_names, 'Image Filename': image_filenames, 'Image Path': image_paths}\n",
    "df = pd.DataFrame(data)\n",
    "\n",
    "# Define the output CSV file path\n",
    "output_csv = 'Fish-Disease.csv'\n",
    "\n",
    "# Save the DataFrame to a CSV file\n",
    "df.to_csv(output_csv, index=False)\n",
    "\n",
    "print(f\"Image dataset information saved to {output_csv}\")\n",
    "\n"
   ]
  },
  {
   "cell_type": "code",
   "execution_count": null,
   "id": "a1d44786",
   "metadata": {},
   "outputs": [],
   "source": []
  }
 ],
 "metadata": {
  "kernelspec": {
   "display_name": "Python 3 (ipykernel)",
   "language": "python",
   "name": "python3"
  },
  "language_info": {
   "codemirror_mode": {
    "name": "ipython",
    "version": 3
   },
   "file_extension": ".py",
   "mimetype": "text/x-python",
   "name": "python",
   "nbconvert_exporter": "python",
   "pygments_lexer": "ipython3",
   "version": "3.11.3"
  }
 },
 "nbformat": 4,
 "nbformat_minor": 5
}
